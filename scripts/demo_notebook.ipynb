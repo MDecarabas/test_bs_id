{
 "cells": [
  {
   "cell_type": "code",
   "execution_count": null,
   "id": "0",
   "metadata": {},
   "outputs": [],
   "source": [
    "'''\n",
    "Replacement for ipython profile\n",
    "'''\n",
    "\n",
    "import time\n",
    "\n",
    "from aps_8id_bs_instrument.utils.iconfig_loader import iconfig\n",
    "from aps_8id_bs_instrument.utils.session_logs import logger\n",
    "from bluesky.magics import BlueskyMagics\n",
    "from IPython import get_ipython\n",
    "import matplotlib.pyplot as plt\n",
    "\n",
    "_ip = get_ipython()\n",
    "if _ip is not None:\n",
    "    _xmode_level = iconfig.get(\"XMODE_DEBUG_LEVEL\", \"Minimal\")\n",
    "    _ip.register_magics(BlueskyMagics)\n",
    "    _ip.run_line_magic(\"xmode\", _xmode_level)\n",
    "    _ip.run_line_magic(\"matplotlib\", \"inline\")\n",
    "    plt.ion()\n",
    "\n",
    "    logger.info(\"xmode exception level: '%s'\", _xmode_level)\n",
    "    del _ip\n",
    "\n",
    "\n",
    "    plt.ion()\n",
    "\n",
    "#start timer\n",
    "t0 = time.monotonic()\n",
    "from aps_8id_bs_instrument.data_collection import *  # noqa\n",
    "\n",
    "from aps_8id_bs_instrument.initialize_bs_tools import (  # noqa: F401\n",
    "    RE,\n",
    "    bec,\n",
    "    cat,\n",
    "    oregistry,\n",
    "    peaks,\n",
    "    sd,\n",
    ")\n",
    "\n",
    "print(f\"Finished initalization in {time.monotonic() - t0:.2f} seconds.\")\n",
    "\n",
    "# happi requires db underneath: might be overkill\n"
   ]
  },
  {
   "cell_type": "code",
   "execution_count": null,
   "id": "1",
   "metadata": {},
   "outputs": [],
   "source": [
    "RE(demo_sim_1d())"
   ]
  },
  {
   "cell_type": "code",
   "execution_count": null,
   "id": "2",
   "metadata": {},
   "outputs": [],
   "source": [
    "RE(demo_sim_1d())"
   ]
  },
  {
   "cell_type": "code",
   "execution_count": null,
   "id": "3",
   "metadata": {},
   "outputs": [],
   "source": []
  }
 ],
 "metadata": {
  "kernelspec": {
   "display_name": "Python 3 (ipykernel)",
   "language": "python",
   "name": "python3"
  },
  "language_info": {
   "codemirror_mode": {
    "name": "ipython",
    "version": 3
   },
   "file_extension": ".py",
   "mimetype": "text/x-python",
   "name": "python",
   "nbconvert_exporter": "python",
   "pygments_lexer": "ipython3",
   "version": "3.10.14"
  }
 },
 "nbformat": 4,
 "nbformat_minor": 5
}
